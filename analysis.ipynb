{
 "cells": [
  {
   "cell_type": "code",
   "execution_count": 51,
   "metadata": {},
   "outputs": [
    {
     "name": "stdout",
     "output_type": "stream",
     "text": [
      "Requirement already satisfied: pandas in c:\\users\\shive\\appdata\\local\\programs\\python\\python310\\lib\\site-packages (2.2.3)\n",
      "Requirement already satisfied: numpy in c:\\users\\shive\\appdata\\local\\programs\\python\\python310\\lib\\site-packages (2.2.3)\n",
      "Requirement already satisfied: pytz>=2020.1 in c:\\users\\shive\\appdata\\local\\programs\\python\\python310\\lib\\site-packages (from pandas) (2025.1)\n",
      "Requirement already satisfied: python-dateutil>=2.8.2 in c:\\users\\shive\\appdata\\roaming\\python\\python310\\site-packages (from pandas) (2.9.0.post0)\n",
      "Requirement already satisfied: tzdata>=2022.7 in c:\\users\\shive\\appdata\\local\\programs\\python\\python310\\lib\\site-packages (from pandas) (2025.1)\n",
      "Requirement already satisfied: six>=1.5 in c:\\users\\shive\\appdata\\roaming\\python\\python310\\site-packages (from python-dateutil>=2.8.2->pandas) (1.17.0)\n",
      "Note: you may need to restart the kernel to use updated packages.\n"
     ]
    },
    {
     "name": "stderr",
     "output_type": "stream",
     "text": [
      "\n",
      "[notice] A new release of pip available: 22.3.1 -> 25.0.1\n",
      "[notice] To update, run: python.exe -m pip install --upgrade pip\n"
     ]
    },
    {
     "ename": "ModuleNotFoundError",
     "evalue": "No module named 'plotly'",
     "output_type": "error",
     "traceback": [
      "\u001b[1;31m---------------------------------------------------------------------------\u001b[0m",
      "\u001b[1;31mModuleNotFoundError\u001b[0m                       Traceback (most recent call last)",
      "Cell \u001b[1;32mIn[51], line 6\u001b[0m\n\u001b[0;32m      4\u001b[0m \u001b[38;5;28;01mimport\u001b[39;00m\u001b[38;5;250m \u001b[39m\u001b[38;5;21;01mpandas\u001b[39;00m\u001b[38;5;250m \u001b[39m\u001b[38;5;28;01mas\u001b[39;00m\u001b[38;5;250m \u001b[39m\u001b[38;5;21;01mpd\u001b[39;00m\n\u001b[0;32m      5\u001b[0m \u001b[38;5;28;01mimport\u001b[39;00m\u001b[38;5;250m \u001b[39m\u001b[38;5;21;01mnumpy\u001b[39;00m\u001b[38;5;250m \u001b[39m\u001b[38;5;28;01mas\u001b[39;00m\u001b[38;5;250m \u001b[39m\u001b[38;5;21;01mnp\u001b[39;00m\n\u001b[1;32m----> 6\u001b[0m \u001b[38;5;28;01mimport\u001b[39;00m\u001b[38;5;250m \u001b[39m\u001b[38;5;21;01mplotly\u001b[39;00m\u001b[38;5;21;01m.\u001b[39;00m\u001b[38;5;21;01mgraph_objects\u001b[39;00m\u001b[38;5;250m \u001b[39m\u001b[38;5;28;01mas\u001b[39;00m\u001b[38;5;250m \u001b[39m\u001b[38;5;21;01mgo\u001b[39;00m\n",
      "\u001b[1;31mModuleNotFoundError\u001b[0m: No module named 'plotly'"
     ]
    }
   ],
   "source": [
    "# Install the required packages\n",
    "%pip install pandas numpy\n",
    "\n",
    "import pandas as pd\n",
    "import numpy as np\n",
    "import plotly.graph_objects as go"
   ]
  },
  {
   "cell_type": "code",
   "execution_count": null,
   "metadata": {},
   "outputs": [],
   "source": [
    "df = pd.read_csv('data/PremierLeague.csv')\n",
    "df = df.drop(labels=[\n",
    "    'Time', 'HomeTeamCorners', 'AwayTeamCorners', 'HalfTimeHomeTeamGoals', 'HalfTimeAwayTeamGoals', 'HalfTimeResult', 'HomeTeamShots', 'AwayTeamShots', 'HomeTeamShotsOnTarget', 'AwayTeamShotsOnTarget', 'B365HomeTeam', 'B365AwayTeam', 'B365Draw', 'B365Over2.5Goals', 'B365Under2.5Goals', 'MarketMaxHomeTeam', 'MarketMaxDraw', 'MarketMaxAwayTeam', 'MarketAvgHomeTeam', 'MarketAvgDraw', 'MarketAvgAwayTeam', 'MarketMaxOver2.5Goals', 'MarketMaxUnder2.5Goals', 'MarketAvgOver2.5Goals', 'MarketAvgUnder2.5Goals', 'HomeTeamPoints', 'AwayTeamPoints'\n",
    "    ],\n",
    "    axis = 1,\n",
    "    )\n",
    "df = df.dropna()"
   ]
  },
  {
   "cell_type": "code",
   "execution_count": null,
   "metadata": {},
   "outputs": [
    {
     "name": "stdout",
     "output_type": "stream",
     "text": [
      "Top 30 referees based on the number of matches officiated:\n",
      "Referee\n",
      "M Dean           529\n",
      "M Atkinson       460\n",
      "A Marriner       392\n",
      "M Oliver         383\n",
      "A Taylor         380\n",
      "P Dowd           301\n",
      "H Webb           297\n",
      "M Clattenburg    293\n",
      "L Mason          287\n",
      "J Moss           274\n",
      "K Friend         272\n",
      "C Foy            257\n",
      "C Pawson         252\n",
      "M Halsey         228\n",
      "A Wiley          207\n",
      "S Bennett        205\n",
      "S Attwell        205\n",
      "M Jones          202\n",
      "P Tierney        183\n",
      "L Probert        182\n",
      "R Styles         176\n",
      "P Walton         169\n",
      "M Riley          169\n",
      "C Kavanagh       145\n",
      "G Poll           139\n",
      "N Swarbrick      132\n",
      "D Coote          111\n",
      "S Hooper         107\n",
      "G Scott          105\n",
      "U Rennie         100\n",
      "Name: count, dtype: int64\n"
     ]
    }
   ],
   "source": [
    "top_100_referees = df['Referee'].value_counts().head(30)\n",
    "print(\"Top 30 referees based on the number of matches officiated:\")\n",
    "print(top_100_referees)"
   ]
  },
  {
   "cell_type": "code",
   "execution_count": 52,
   "metadata": {},
   "outputs": [
    {
     "name": "stdout",
     "output_type": "stream",
     "text": [
      "Note: you may need to restart the kernel to use updated packages.\n"
     ]
    },
    {
     "name": "stderr",
     "output_type": "stream",
     "text": [
      "ERROR: Invalid requirement: '#'\n",
      "\n",
      "[notice] A new release of pip available: 22.3.1 -> 25.0.1\n",
      "[notice] To update, run: python.exe -m pip install --upgrade pip\n"
     ]
    },
    {
     "data": {
      "image/png": "[encoded data removed]",
      "text/plain": [
       "<Figure size 800x500 with 1 Axes>"
      ]
     },
     "metadata": {},
     "output_type": "display_data"
    }
   ],
   "source": [
    "%pip install matplotlib  # Install matplotlib if not already installed\n",
    "import matplotlib.pyplot as plt  # Import pyplot from matplotlib\n",
    "\n",
    "def plot_cards_and_fouls():\n",
    "    # Calculate total red cards from both teams\n",
    "    total_red = df['HomeTeamRedCards'].sum() + df['AwayTeamRedCards'].sum()\n",
    "    # Calculate total yellow cards from both teams\n",
    "    total_yellow = df['HomeTeamYellowCards'].sum() + df['AwayTeamYellowCards'].sum()\n",
    "    # Calculate total fouls from both teams\n",
    "    total_fouls = df['HomeTeamFouls'].sum() + df['AwayTeamFouls'].sum()\n",
    "    \n",
    "    # Prepare data for plotting\n",
    "    events = {'Red Cards': total_red, 'Yellow Cards': total_yellow, 'Fouls': total_fouls}\n",
    "    \n",
    "    plt.figure(figsize=(8,5))\n",
    "    plt.bar(events.keys(), events.values(), color=['red', 'gold', 'blue'])\n",
    "    plt.title(\"Total Red Cards, Yellow Cards, and Fouls\")\n",
    "    plt.ylabel(\"Count\")\n",
    "    plt.show()\n",
    "\n",
    "# Example usage:\n",
    "plot_cards_and_fouls()"
   ]
  },
  {
   "cell_type": "code",
   "execution_count": null,
   "metadata": {},
   "outputs": [],
   "source": [
    "def get_referee_fouls(referee_name, team_name):\n",
    "    referee_matches = df[df['Referee'] == referee_name]\n",
    "    \n",
    "    home_matches = referee_matches[referee_matches['HomeTeam'] == team_name]\n",
    "    home_fouls = home_matches['HomeTeamFouls'].sum()\n",
    "\n",
    "    away_matches = referee_matches[referee_matches['AwayTeam'] == team_name]\n",
    "    away_fouls = away_matches['AwayTeamFouls'].sum()\n",
    "\n",
    "    total_matches = len(home_matches) + len(away_matches)\n",
    "    total_fouls = home_fouls + away_fouls\n",
    "\n",
    "    return {\n",
    "        'Total Fouls': total_fouls,\n",
    "        'Matches Officiated': total_matches,\n",
    "        'Fouls per Match': total_fouls/total_matches if total_matches > 0 else 0\n",
    "    }\n",
    "    \n",
    "referee = \"M Dean\"  # Example referee\n",
    "team = \"Arsenal\"      # Example team\n",
    "stats = get_referee_fouls(referee, team)\n",
    "print(f\"Fouls given by {referee} to {team}:\")\n",
    "for key, value in stats.items():\n",
    "    print(f\"{key}: {value:.2f}\")"
   ]
  },
  {
   "cell_type": "code",
   "execution_count": null,
   "metadata": {},
   "outputs": [
    {
     "name": "stdout",
     "output_type": "stream",
     "text": [
      "Cards given by U Rennie to Arsenal:\n",
      "Total Cards: 10.00\n",
      "Matches Officiated: 9.00\n",
      "Cards per Match: 1.11\n"
     ]
    }
   ],
   "source": [
    "def get_referee_cards(referee_name, team_name):\n",
    "    # Get matches where the referee officiated\n",
    "    referee_matches = df[df['Referee'] == referee_name]\n",
    "    \n",
    "    # Get cards when team was home\n",
    "    home_matches = referee_matches[referee_matches['HomeTeam'] == team_name]\n",
    "    home_cards = home_matches['HomeTeamYellowCards'].sum() + home_matches['HomeTeamRedCards'].sum()\n",
    "    \n",
    "    # Get cards when team was away\n",
    "    away_matches = referee_matches[referee_matches['AwayTeam'] == team_name]\n",
    "    away_cards = away_matches['AwayTeamYellowCards'].sum() + away_matches['AwayTeamRedCards'].sum()\n",
    "    \n",
    "    total_matches = len(home_matches) + len(away_matches)\n",
    "    total_cards = home_cards + away_cards\n",
    "    \n",
    "    return {\n",
    "        'Total Cards': total_cards,\n",
    "        'Matches Officiated': total_matches,\n",
    "        'Cards per Match': total_cards/total_matches if total_matches > 0 else 0\n",
    "    }\n",
    "\n",
    "# Example usage - replace with your desired referee and team\n",
    "referee = \"U Rennie\"  # Example referee\n",
    "team = \"Arsenal\"      # Example team\n",
    "stats = get_referee_cards(referee, team)\n",
    "print(f\"Cards given by {referee} to {team}:\")\n",
    "for key, value in stats.items():\n",
    "    print(f\"{key}: {value:.2f}\")"
   ]
  }
 ],
 "metadata": {
  "kernelspec": {
   "display_name": "Python 3",
   "language": "python",
   "name": "python3"
  },
  "language_info": {
   "codemirror_mode": {
    "name": "ipython",
    "version": 3
   },
   "file_extension": ".py",
   "mimetype": "text/x-python",
   "name": "python",
   "nbconvert_exporter": "python",
   "pygments_lexer": "ipython3",
   "version": "3.10.10"
  }
 },
 "nbformat": 4,
 "nbformat_minor": 2
}
